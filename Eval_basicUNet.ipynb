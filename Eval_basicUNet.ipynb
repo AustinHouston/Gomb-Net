{
 "cells": [
  {
   "cell_type": "code",
   "execution_count": null,
   "metadata": {},
   "outputs": [],
   "source": [
    "import numpy as np\n",
    "from PIL import Image\n",
    "from GombNet.networks import *\n",
    "from GombNet.loss_func import DiceLoss, GombinatorialLoss\n",
    "from GombNet.utils import *\n",
    "import matplotlib.pyplot as plt\n",
    "from skimage.filters import threshold_otsu\n",
    "%matplotlib ipympl\n",
    "\n",
    "import sys\n",
    "sys.path.append('/Users/austin/Documents/GitHub/DataGenSTEM/DataGenSTEM')\n",
    "import data_generator as dg\n",
    "\n",
    "from scipy.ndimage import gaussian_filter"
   ]
  },
  {
   "cell_type": "code",
   "execution_count": null,
   "metadata": {},
   "outputs": [],
   "source": [
    "# Create dataloaders\n",
    "images_dir='/Users/austin/Desktop/Gomb-Net aux files/Graphene_dataset/images'\n",
    "labels_dir='/Users/austin/Desktop/Gomb-Net aux files/Graphene_dataset/labels'\n",
    "train_loader, val_loader, test_loader = get_dataloaders(images_dir, labels_dir, batch_size = 1, val_split=0.2, test_split=0.1, seed=42)\n"
   ]
  },
  {
   "cell_type": "code",
   "execution_count": null,
   "metadata": {},
   "outputs": [],
   "source": [
    "# Initialize model\n",
    "input_channels = 1\n",
    "num_classes = 2\n",
    "num_filters = [32, 64, 128, 256]\n",
    "\n",
    "model = Unet(input_channels, num_classes, num_filters, dropout = 0.2)\n",
    "optimizer = torch.optim.Adam(model.parameters(), lr=0.0001)\n",
    "loss = GombinatorialLoss(alpha=2, group_size=1)\n",
    "         "
   ]
  },
  {
   "cell_type": "code",
   "execution_count": null,
   "metadata": {},
   "outputs": [],
   "source": [
    "# Set device\n",
    "if hasattr(torch.backends, 'mps') and torch.backends.mps.is_available():\n",
    "    device = torch.device('mps') # backend for Apple silicon GPUs\n",
    "elif torch.cuda.is_available():\n",
    "    device = 'cuda'\n",
    "else:\n",
    "    device = 'cpu'"
   ]
  },
  {
   "cell_type": "code",
   "execution_count": null,
   "metadata": {},
   "outputs": [],
   "source": [
    "# Set the default font to Times New Roman for all text elements\n",
    "plt.rcParams['font.family'] = 'Times New Roman'\n",
    "plt.rcParams['font.size'] = 18  # Adjust the default font size if needed\n",
    "plt.rcParams['xtick.labelsize'] = 18\n",
    "plt.rcParams['ytick.labelsize'] = 18"
   ]
  },
  {
   "cell_type": "code",
   "execution_count": null,
   "metadata": {},
   "outputs": [],
   "source": [
    "# loss_history = np.load('/Users/austin/Desktop/Gomb-Net aux files/Pretrained_models/TwoLeggedGraphene256_b.pthloss_history.npz')\n",
    "# train_loss = loss_history['train_loss_history']\n",
    "# val_loss = loss_history['val_loss_history']\n",
    "# plt.figure(dpi=300, figsize = (6,4))\n",
    "# plt.plot(train_loss, label='training', color = '#1f77b4')\n",
    "# plt.plot(val_loss, label='validation', color = '#d62728')\n",
    "# plt.xlabel('Epoch')\n",
    "# plt.xlim(0,30)\n",
    "# plt.legend(title='Losses', loc='upper right')\n",
    "# plt.tight_layout()  \n",
    "# \n"
   ]
  },
  {
   "cell_type": "code",
   "execution_count": null,
   "metadata": {},
   "outputs": [],
   "source": [
    "test_iter = 1\n",
    "\n",
    "train = train_loader.dataset[test_iter][0].unsqueeze(0)\n",
    "test = test_loader.dataset[test_iter][0].unsqueeze(0)\n",
    "gt = test_loader.dataset[test_iter][1]"
   ]
  },
  {
   "cell_type": "code",
   "execution_count": null,
   "metadata": {},
   "outputs": [],
   "source": [
    "model_path = '/Users/austin/Desktop/Gomb-Net aux files/Pretrained_models/TwoLeggedGraphene256_b.pth'\n",
    "# model.to(device)\n",
    "checkpoint = torch.load(model_path, map_location=torch.device('mps'))\n",
    "model.load_state_dict(checkpoint['model_state_dict'])\n",
    "optimizer.load_state_dict(checkpoint['optimizer_state_dict'])\n",
    "model.eval()"
   ]
  },
  {
   "cell_type": "code",
   "execution_count": null,
   "metadata": {},
   "outputs": [],
   "source": [
    "# Generate prediction\n",
    "with torch.no_grad():\n",
    "    #test.to(device)\n",
    "    probability = model(test)\n",
    "    prediction = F.sigmoid(probability)#>0.50\n",
    "probability = probability.squeeze().cpu().numpy() \n",
    "prediction = prediction.squeeze().cpu().numpy()\n",
    "\n",
    "threshold = threshold_otsu(prediction)\n",
    "prediction = (prediction > threshold).astype(float)\n"
   ]
  },
  {
   "cell_type": "code",
   "execution_count": null,
   "metadata": {},
   "outputs": [],
   "source": [
    "plt.figure(dpi=300)\n",
    "plt.imshow(test.squeeze().cpu().numpy(), cmap='gray')\n",
    "plt.colorbar()"
   ]
  },
  {
   "cell_type": "code",
   "execution_count": null,
   "metadata": {},
   "outputs": [],
   "source": [
    "# Plotting\n",
    "num_classes\n",
    "fig, axs = plt.subplots(3,num_classes, sharex=True, sharey=True, dpi=300)\n",
    "\n",
    "for i in range(num_classes):\n",
    "    axs[0,i].imshow(gt[i], cmap='gray')\n",
    "\n",
    "for i in range(num_classes):\n",
    "    axs[1,i].imshow(prediction[i], cmap='gray')\n",
    "\n",
    "for i in range(num_classes)[:1]:\n",
    "    axs[2,i].imshow(probability[i], cmap='plasma')\n",
    "for i in range(num_classes)[1:]:\n",
    "    axs[2,i].imshow(probability[i], cmap='viridis')\n",
    "\n",
    "\n",
    "for ax in axs.ravel():\n",
    "    ax.axis('off')\n",
    "\n",
    "axs[0,0].set_ylabel('GrounTruth')\n",
    "axs[1,0].set_ylabel('Prediction')\n",
    "axs[2,0].set_ylabel('Probability')\n",
    "\n",
    "\n",
    "fig.tight_layout()"
   ]
  },
  {
   "cell_type": "code",
   "execution_count": null,
   "metadata": {},
   "outputs": [],
   "source": [
    "pwa_total = 0\n",
    "dice_total = 0\n",
    "IoU_total = 0\n",
    "\n",
    "def iou(pred, gt):\n",
    "    intersection = np.logical_and(pred, gt).sum()\n",
    "    union = np.logical_or(pred, gt).sum()\n",
    "    return intersection / union\n",
    "\n",
    "def dice_coefficient(pred, gt):\n",
    "    intersection = np.logical_and(pred, gt).sum()\n",
    "    return 2 * intersection / (pred.sum() + gt.sum())\n",
    "\n",
    "# Calculate the accuracy\n",
    "for i in range(len(test_loader)):\n",
    "    test = test_loader.dataset[i][0].unsqueeze(0)\n",
    "    gt = test_loader.dataset[i][1].numpy()  # Convert to numpy array\n",
    "    \n",
    "    # Switch ground truth layers\n",
    "    gt_switched = np.flip(gt, axis=0)\n",
    "    \n",
    "    with torch.no_grad():\n",
    "        probability = model(test)\n",
    "        prediction = torch.sigmoid(probability)  # Use torch.sigmoid instead of F.sigmoid (deprecated)\n",
    "    \n",
    "    probability = probability.squeeze().cpu().numpy()\n",
    "    prediction = prediction.squeeze().cpu().numpy()\n",
    "\n",
    "    threshold = threshold_otsu(prediction)\n",
    "    prediction = (prediction > threshold).astype(float)\n",
    "    \n",
    "    # Calculate metrics for original and switched ground truths\n",
    "    pwa_original = np.sum(prediction == gt) / np.prod(gt.shape)\n",
    "    pwa_switched = np.sum(prediction == gt_switched) / np.prod(gt_switched.shape)\n",
    "    \n",
    "    dice_original = dice_coefficient(prediction, gt)\n",
    "    dice_switched = dice_coefficient(prediction, gt_switched)\n",
    "    \n",
    "    iou_original = iou(prediction, gt)\n",
    "    iou_switched = iou(prediction, gt_switched)\n",
    "    \n",
    "    # Take the highest value for each metric\n",
    "    pwa_total += max(pwa_original, pwa_switched)\n",
    "    dice_total += max(dice_original, dice_switched)\n",
    "    IoU_total += max(iou_original, iou_switched)\n",
    "\n",
    "# Calculate the average for each metric\n",
    "pwa_total /= len(test_loader)\n",
    "dice_total /= len(test_loader)\n",
    "IoU_total /= len(test_loader)\n",
    "\n",
    "print(f\"Pixel-wise Accuracy: {pwa_total}\")\n",
    "print(f\"Mean Dice Coefficient: {dice_total}\")\n",
    "print(f\"Mean IoU: {IoU_total}\")"
   ]
  },
  {
   "cell_type": "code",
   "execution_count": null,
   "metadata": {},
   "outputs": [],
   "source": [
    "def get_activations_by_layer(model, x):\n",
    "    activations = []\n",
    "    hooks = []\n",
    "    layer_names = []\n",
    "\n",
    "    def hook_fn(module, input, output):\n",
    "        # If the output is a tuple, extract the first element\n",
    "        if isinstance(output, tuple):\n",
    "            output = output[0]\n",
    "        activations.append(output)\n",
    "\n",
    "    def register_hooks(module, name_prefix=''):\n",
    "        if isinstance(module, nn.Module):\n",
    "            hooks.append(module.register_forward_hook(hook_fn))\n",
    "        for name, child in module.named_children():\n",
    "            full_name = f\"{name_prefix}{name}\"\n",
    "            register_hooks(child, full_name + '.')\n",
    "            layer_names.append(full_name)\n",
    "\n",
    "    # Register hooks recursively\n",
    "    register_hooks(model, '')\n",
    "\n",
    "    # Forward pass\n",
    "    with torch.no_grad():\n",
    "        model(x)\n",
    "\n",
    "    # Remove hooks\n",
    "    for hook in hooks:\n",
    "        hook.remove()\n",
    "\n",
    "    return activations, layer_names\n",
    "\n",
    "\n",
    "\n",
    "def plot_activations(activations, layer_names):\n",
    "    num_layers = len(activations)\n",
    "    fig, axs = plt.subplots(num_layers, min(8, max(activation.shape[1] for activation in activations if isinstance(activation, torch.Tensor))), figsize=(20, 2 * num_layers))\n",
    "\n",
    "    for i, activation in enumerate(activations):\n",
    "        num_channels = activation.shape[1] if isinstance(activation, torch.Tensor) else 1\n",
    "        \n",
    "        for j in range(min(num_channels, 8)):\n",
    "            ax = axs[i, j] if num_layers > 1 else axs[j]\n",
    "            if isinstance(activation, torch.Tensor):\n",
    "                ax.imshow(activation[0, j].cpu().numpy(), cmap='viridis')\n",
    "            else:\n",
    "                ax.text(0.5, 0.5, str(activation), fontsize=12, ha='center')\n",
    "            ax.axis('off')\n",
    "        \n",
    "        # Set the title for the row\n",
    "        layer_name = layer_names[i] if layer_names is not None else f'Layer {i}'\n",
    "        axs[i, 0].set_title(layer_name, fontsize=16, loc='left')\n",
    "\n",
    "    plt.tight_layout()\n",
    "    plt.show()"
   ]
  },
  {
   "cell_type": "code",
   "execution_count": null,
   "metadata": {},
   "outputs": [],
   "source": [
    "activations, layer_names = get_activations_by_layer(model, test)\n",
    "\n"
   ]
  },
  {
   "cell_type": "code",
   "execution_count": null,
   "metadata": {},
   "outputs": [],
   "source": [
    "# plot_activations(activations, layer_names)"
   ]
  },
  {
   "cell_type": "code",
   "execution_count": null,
   "metadata": {},
   "outputs": [],
   "source": [
    "import matplotlib.pyplot as plt\n",
    "\n",
    "def plot_activations(activations, categories, layer_names):\n",
    "    num_layers = len(activations)\n",
    "    fig, axs = plt.subplots(num_layers, min(8, max(activation.shape[1] for activation in activations)), figsize=(20, 2 * num_layers))\n",
    "\n",
    "    for i, (activation, category) in enumerate(zip(activations, categories)):\n",
    "        num_channels = activation.shape[1]\n",
    "        \n",
    "        for j in range(min(num_channels, 8)):\n",
    "            ax = axs[i, j] if num_layers > 1 else axs[j]\n",
    "            ax.imshow(activation[0, j].cpu().numpy(), cmap='viridis')\n",
    "            ax.axis('off')\n",
    "        \n",
    "        # Set the title for the row\n",
    "        layer_name = layer_names[i] if layer_names is not None else f'Layer {i}'\n",
    "        axs[i, 0].set_title(f'{category.capitalize()} - {layer_name}', fontsize=16, loc='left')\n",
    "\n",
    "    plt.tight_layout()\n",
    "    plt.show()\n",
    "\n",
    "# Example usage of plotting function\n",
    "plot_activations(activations, categories, layer_names)"
   ]
  },
  {
   "cell_type": "code",
   "execution_count": null,
   "metadata": {},
   "outputs": [],
   "source": []
  },
  {
   "cell_type": "code",
   "execution_count": null,
   "metadata": {},
   "outputs": [],
   "source": []
  },
  {
   "cell_type": "code",
   "execution_count": null,
   "metadata": {},
   "outputs": [],
   "source": []
  },
  {
   "cell_type": "code",
   "execution_count": null,
   "metadata": {},
   "outputs": [],
   "source": []
  },
  {
   "cell_type": "code",
   "execution_count": null,
   "metadata": {},
   "outputs": [],
   "source": [
    "# Read in the image\n",
    "#img = Image.open('./expdata/MAADF108.tiff')\n",
    "img = Image.open('/Users/austin/Desktop/Projects/MoS2_isotope_growth/code/expdata/HAADF115.tiff')\n",
    "img = np.array(img).astype('float32')\n",
    "img = img - img.min()\n",
    "img = img / img.max()\n",
    "img = gaussian_filter(img, 1)\n",
    "\n",
    "\n",
    "ims = dg.shotgun_crop(img, crop_size=470, magnification_var = None, n_crops=10, seed=42, return_binary = False, roi = 'middle')\n",
    "ims = [dg.resize_image(im, 512) for im in ims]\n",
    "ims = [gaussian_filter(im, 1) for im in ims]\n",
    "ims = np.array(ims)\n"
   ]
  },
  {
   "cell_type": "code",
   "execution_count": null,
   "metadata": {},
   "outputs": [],
   "source": [
    "fig, (ax1, ax2) = plt.subplots(1, 2, figsize=(10, 5))\n",
    "ax1.imshow(img, cmap='gray')\n",
    "ax1.set_title('Original Image')\n",
    "\n",
    "ax2.imshow(ims[2], cmap='gray')\n",
    "ax2.set_title('Resized Image')\n",
    "\n",
    "ax1.axis('off')\n",
    "ax2.axis('off')\n",
    "\n",
    "\n",
    "# make test type torch.FloatTensor\n",
    "test = torch.from_numpy(ims).unsqueeze(1).float()"
   ]
  },
  {
   "cell_type": "code",
   "execution_count": null,
   "metadata": {},
   "outputs": [],
   "source": [
    "# Generate prediction\n",
    "with torch.no_grad():\n",
    "    probability = model(test)\n",
    "    prediction = F.sigmoid(probability)>0.50\n",
    "probability = probability.squeeze().cpu().numpy() \n",
    "prediction = prediction.squeeze().cpu().numpy()"
   ]
  },
  {
   "cell_type": "code",
   "execution_count": null,
   "metadata": {},
   "outputs": [],
   "source": [
    "batch = 2\n",
    "fig, axs = plt.subplots(2,5,figsize=(18, 10), sharex=True, sharey=True)\n",
    "\n",
    "axs[0,0].imshow(ims[batch], cmap='gray')\n",
    "\n",
    "for i in range(num_classes):\n",
    "    axs[0,i+1].imshow(prediction[batch,i], cmap='viridis')\n",
    "    axs[1,i+1].imshow(probability[batch,i], cmap='plasma')\n",
    "\n",
    "\n",
    "fig.tight_layout()"
   ]
  },
  {
   "cell_type": "code",
   "execution_count": null,
   "metadata": {},
   "outputs": [],
   "source": [
    "prediction = prediction.astype(int)\n",
    "test_image = test.cpu().squeeze().numpy()\n",
    "\n"
   ]
  },
  {
   "cell_type": "code",
   "execution_count": null,
   "metadata": {},
   "outputs": [],
   "source": [
    "from scipy.ndimage import label, center_of_mass\n",
    "\n",
    "batch = 2\n",
    "# make the plots the same size\n",
    "fig, ax = plt.subplots(1,3,figsize=(15, 10), sharex=True, sharey=True)\n",
    "\n",
    "threshold_area = 10\n",
    "\n",
    "atoms = []\n",
    "layer_indexes = [1,4]\n",
    "layer_names = ['Mo_A', 'Mo_B']\n",
    "colors = ['hotpink', 'darkviolet']\n",
    "for i, n in enumerate(layer_indexes):\n",
    "    layer = prediction[batch,n]\n",
    "    labels, num_features = label(layer)\n",
    "\n",
    "    # filter out small blobs\n",
    "    for feature_id in range(1, num_features + 1):\n",
    "        blob_area = (labels == feature_id).sum()\n",
    "        if blob_area < threshold_area:\n",
    "            labels[labels == feature_id] = 0\n",
    "\n",
    "    com = center_of_mass(layer, labels, range(1, num_features+1))\n",
    "    atoms.append(np.array(com))\n",
    "\n",
    "    ax[i].imshow(test_image[batch], cmap='gray')\n",
    "    ax[i].scatter([c[1] for c in com], [c[0] for c in com], color = colors[i], s=50, label = layer_names[i])\n",
    "    ax[i].axis('off')\n",
    "\n",
    "ax[2].imshow(test_image[batch], cmap='gray')\n",
    "ax[2].axis('off')\n",
    "\n",
    "fig.tight_layout()"
   ]
  },
  {
   "cell_type": "code",
   "execution_count": null,
   "metadata": {},
   "outputs": [],
   "source": []
  }
 ],
 "metadata": {
  "kernelspec": {
   "display_name": "torch-nightly",
   "language": "python",
   "name": "python3"
  },
  "language_info": {
   "codemirror_mode": {
    "name": "ipython",
    "version": 3
   },
   "file_extension": ".py",
   "mimetype": "text/x-python",
   "name": "python",
   "nbconvert_exporter": "python",
   "pygments_lexer": "ipython3",
   "version": "3.12.3"
  }
 },
 "nbformat": 4,
 "nbformat_minor": 2
}
