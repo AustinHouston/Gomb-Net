{
 "cells": [
  {
   "cell_type": "code",
   "execution_count": null,
   "metadata": {},
   "outputs": [],
   "source": [
    "import ase\n",
    "from ase.io import read, write\n",
    "from ase import Atoms, Atom\n",
    "from ase.visualize import view "
   ]
  },
  {
   "cell_type": "code",
   "execution_count": null,
   "metadata": {},
   "outputs": [],
   "source": [
    "atoms = read('./WSe2.cif')\n",
    "\n",
    "z = atoms.get_positions()[:,2]\n",
    "z_middle = (max(z) + min(z))/2\n",
    "\n",
    "atoms = atoms[z > z_middle]\n",
    "atoms.set_cell([atoms.get_cell()[0], atoms.get_cell()[1], atoms.get_cell()[2]/2])\n",
    "atoms.center()\n",
    "\n",
    "for atom in atoms:\n",
    "    if atom.symbol == 'Se':\n",
    "        atom.symbol = 'S'\n",
    "\n",
    "atoms = atoms * (5, 1, 1)\n",
    "\n",
    "# done, save this later as WSe2_monolayer\n",
    "write('WS2_monolayer.cif', atoms)"
   ]
  },
  {
   "cell_type": "code",
   "execution_count": null,
   "metadata": {},
   "outputs": [],
   "source": [
    "view(atoms)"
   ]
  },
  {
   "cell_type": "code",
   "execution_count": null,
   "metadata": {},
   "outputs": [],
   "source": [
    "janus = atoms.copy()\n",
    "\n",
    "z_middle = (max(janus.get_positions()[:,2]) + min(janus.get_positions()[:,2]))/2\n",
    "for atom in janus:\n",
    "    if atom.position[2] < z_middle:\n",
    "        if atom.symbol == 'S':\n",
    "            atom.symbol = 'Se'\n",
    "\n",
    "write('WSSe2_janus.cif', janus)\n"
   ]
  },
  {
   "cell_type": "code",
   "execution_count": null,
   "metadata": {},
   "outputs": [],
   "source": [
    "view(janus)"
   ]
  },
  {
   "cell_type": "code",
   "execution_count": null,
   "metadata": {},
   "outputs": [],
   "source": [
    "partial = atoms.copy()\n",
    "\n",
    "iter = 0\n",
    "z_middle = (max(partial.get_positions()[:,2]) + min(partial.get_positions()[:,2]))/2\n",
    "for atom in partial:\n",
    "    if atom.position[2] < z_middle:\n",
    "        if atom.symbol == 'S':\n",
    "            if iter in [1,3,4]:\n",
    "                atom.symbol = 'Se'\n",
    "            iter += 1\n",
    "\n",
    "write('WSSe2_partial.cif', partial)"
   ]
  },
  {
   "cell_type": "code",
   "execution_count": null,
   "metadata": {},
   "outputs": [],
   "source": [
    "view(partial)"
   ]
  },
  {
   "cell_type": "code",
   "execution_count": null,
   "metadata": {},
   "outputs": [],
   "source": []
  }
 ],
 "metadata": {
  "kernelspec": {
   "display_name": "pytemlib",
   "language": "python",
   "name": "python3"
  },
  "language_info": {
   "codemirror_mode": {
    "name": "ipython",
    "version": 3
   },
   "file_extension": ".py",
   "mimetype": "text/x-python",
   "name": "python",
   "nbconvert_exporter": "python",
   "pygments_lexer": "ipython3",
   "version": "3.11.0"
  }
 },
 "nbformat": 4,
 "nbformat_minor": 2
}
