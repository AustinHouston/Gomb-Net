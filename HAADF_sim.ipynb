{
 "cells": [
  {
   "cell_type": "code",
   "execution_count": null,
   "metadata": {},
   "outputs": [],
   "source": [
    "import sys\n",
    "import os\n",
    "import ase\n",
    "from ase.visualize import view\n",
    "\n",
    "import matplotlib.pyplot as plt\n",
    "import numpy as np\n",
    "\n",
    "sys.path.append('/Users/austin/Documents/GitHub/DataGenSTEM/DataGenSTEM')\n",
    "import data_generator as dg\n",
    "\n",
    "%matplotlib ipympl"
   ]
  },
  {
   "cell_type": "code",
   "execution_count": null,
   "metadata": {},
   "outputs": [],
   "source": [
    "atoms = ase.io.read('atoms.cif')\n",
    "\n",
    "positions = atoms.get_positions()\n",
    "min_pos = np.min(positions, axis=0)\n",
    "max_pos = np.max(positions, axis=0)\n",
    "\n",
    "cell_lengths = max_pos - min_pos\n",
    "atoms.set_cell(cell_lengths)\n",
    "atoms.wrap()\n",
    "\n",
    "xtal = atoms.copy()\n",
    "\n",
    "# Define the image size in Angstroms\n",
    "positions = xtal.get_positions()[:, :2]\n",
    "xmin, xmax = np.min(positions[:, 0]), np.max(positions[:, 0])\n",
    "ymin, ymax = np.min(positions[:, 1]), np.max(positions[:, 1])\n",
    "borders = 1\n",
    "axis_extent = (xmin - borders, xmax + borders, ymin - borders, ymax + borders)\n",
    "\n",
    "pixel_size = 0.106 # Angstrom/pixel, determines number of points, aka resolution of maps.  the xtal determines the fov"
   ]
  },
  {
   "cell_type": "code",
   "execution_count": null,
   "metadata": {},
   "outputs": [],
   "source": [
    "atom_var = 0.014\n",
    "potential = dg.get_pseudo_potential(xtal = xtal, pixel_size = pixel_size, sigma = atom_var, axis_extent = axis_extent)\n",
    "\n",
    "plt.figure()\n",
    "plt.imshow(potential, cmap='gray', extent=axis_extent)\n",
    "plt.colorbar()"
   ]
  },
  {
   "cell_type": "code",
   "execution_count": null,
   "metadata": {},
   "outputs": [],
   "source": [
    "# Make point spread function\n",
    "airy_disk_size = 1\n",
    "psf = dg.get_point_spread_function(airy_disk_radius = airy_disk_size, size = 32)\n",
    "psf_resize = dg.resize_image(np.array(psf), n = max(potential.shape)) # for plotting on same axes as image\n",
    "perfect_image = dg.convolve_kernel(potential, psf)\n",
    "\n",
    "plt.figure()\n",
    "plt.imshow(perfect_image, cmap='gray', extent=axis_extent)\n",
    "plt.colorbar()"
   ]
  },
  {
   "cell_type": "code",
   "execution_count": null,
   "metadata": {},
   "outputs": [],
   "source": []
  },
  {
   "cell_type": "code",
   "execution_count": null,
   "metadata": {},
   "outputs": [],
   "source": []
  },
  {
   "cell_type": "code",
   "execution_count": null,
   "metadata": {},
   "outputs": [],
   "source": [
    "shot_noise = 0.8\n",
    "noisy_image = dg.add_poisson_noise(perfect_image, shot_noise = shot_noise)"
   ]
  },
  {
   "cell_type": "code",
   "execution_count": null,
   "metadata": {},
   "outputs": [],
   "source": [
    "fig, ax = plt.subplots(1, 2, figsize=(10, 5))\n",
    "ax[0].imshow(perfect_image, cmap='gray')\n",
    "ax[0].set_title('Perfect Image')\n",
    "\n",
    "ax[1].imshow(noisy_image, cmap='gray')\n",
    "ax[1].set_title('Noisy Image')\n"
   ]
  },
  {
   "cell_type": "code",
   "execution_count": null,
   "metadata": {},
   "outputs": [],
   "source": []
  },
  {
   "cell_type": "code",
   "execution_count": null,
   "metadata": {},
   "outputs": [],
   "source": []
  }
 ],
 "metadata": {
  "kernelspec": {
   "display_name": "pytemlib",
   "language": "python",
   "name": "python3"
  },
  "language_info": {
   "codemirror_mode": {
    "name": "ipython",
    "version": 3
   },
   "file_extension": ".py",
   "mimetype": "text/x-python",
   "name": "python",
   "nbconvert_exporter": "python",
   "pygments_lexer": "ipython3",
   "version": "3.11.6"
  }
 },
 "nbformat": 4,
 "nbformat_minor": 2
}
