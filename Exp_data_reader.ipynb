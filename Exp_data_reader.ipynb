{
 "cells": [
  {
   "cell_type": "code",
   "execution_count": null,
   "metadata": {},
   "outputs": [],
   "source": [
    "import numpy as np\n",
    "import matplotlib.pyplot as plt\n",
    "import os\n",
    "import pyTEMlib\n",
    "from pyTEMlib import file_tools as ft\n",
    "from pyTEMlib import image_tools as it\n",
    "%matplotlib ipympl"
   ]
  },
  {
   "cell_type": "code",
   "execution_count": null,
   "metadata": {},
   "outputs": [],
   "source": [
    "print(pyTEMlib.__version__)"
   ]
  },
  {
   "cell_type": "code",
   "execution_count": null,
   "metadata": {},
   "outputs": [],
   "source": [
    "# Graphene exp data\n",
    "path = '/Users/austin/Dropbox/graphene_images/Hao_Wang_colab/'\n",
    "files = os.listdir(path)\n",
    "files = [f for f in files if f.endswith('.emd')]"
   ]
  },
  {
   "cell_type": "code",
   "execution_count": null,
   "metadata": {},
   "outputs": [],
   "source": [
    "dates = [file.split(' ')[2].split('_')[0] for file in files]\n",
    "dates = list(set(dates))\n",
    "\n",
    "date = dates[0]\n",
    "sorted_files = [file for file in files if '.emd' in file]\n",
    "\n",
    "for file in sorted_files:\n",
    "    print(path+file)\n",
    "\n",
    "# file indexes 2,8,14 on dates[4] are Moires"
   ]
  },
  {
   "cell_type": "code",
   "execution_count": null,
   "metadata": {},
   "outputs": [],
   "source": [
    "file"
   ]
  },
  {
   "cell_type": "code",
   "execution_count": null,
   "metadata": {},
   "outputs": [],
   "source": [
    "file = sorted_files[14]\n",
    "\n",
    "dset = ft.open_file(path + file)\n",
    "image = dset['Channel_000']\n",
    "viw = image.plot()\n",
    "\n",
    "pixel_size = image.original_metadata['BinaryResult']['PixelSize']['width']\n",
    "pixel_size = np.array(pixel_size)\n",
    "print('Pixel size: ', pixel_size, )"
   ]
  },
  {
   "cell_type": "code",
   "execution_count": null,
   "metadata": {},
   "outputs": [],
   "source": [
    "im_array = np.array(image)\n",
    "\n",
    "np.savez('moire.npz', im_array=im_array, pixel_size=pixel_size)"
   ]
  },
  {
   "cell_type": "code",
   "execution_count": null,
   "metadata": {},
   "outputs": [],
   "source": []
  },
  {
   "cell_type": "code",
   "execution_count": null,
   "metadata": {},
   "outputs": [],
   "source": [
    "# WSSe Exp data \n",
    "# path = '/Users/austin/Desktop/Projects/WS2_twist/WS2_1deg/20230315/WS2_1deg/20230315 1045 STEM HAADF 9.20 Mx.emd'\n",
    "path = '/Users/austin/Desktop/Projects/WS2_twist/WS2_15deg/20230303/20230303 1703 STEM HAADF 4.60 Mx.emd'\n",
    "dset = ft.open_file(path)\n",
    "image = dset['Channel_000']\n",
    "\n",
    "# normalize the image\n",
    "image = image - image.min()\n",
    "image = image/image.max()\n",
    "im_array = np.array(image)\n",
    "\n",
    "\n",
    "view = image.plot()\n",
    "\n",
    "pixel_size = dset['Channel_000'].original_metadata['BinaryResult']['PixelSize']['width'] # m/pixel\n",
    "pixel_size = float(pixel_size) * 1e10 # Angstrom/pixel\n",
    "\n",
    "print('Pixel size: ', pixel_size, ' Angstroms/pixel')"
   ]
  },
  {
   "cell_type": "code",
   "execution_count": null,
   "metadata": {},
   "outputs": [],
   "source": [
    "# scipy ndimage zoom to get the right pixel size\n",
    "from scipy.ndimage import zoom\n",
    "\n",
    "zoom_factor = 2\n",
    "zoomed_im = zoom(im_array, zoom_factor, order=3)\n",
    "pixel_size = pixel_size / zoom_factor"
   ]
  },
  {
   "cell_type": "code",
   "execution_count": null,
   "metadata": {},
   "outputs": [],
   "source": [
    "pixel_size"
   ]
  },
  {
   "cell_type": "code",
   "execution_count": null,
   "metadata": {},
   "outputs": [],
   "source": [
    "plt.figure()\n",
    "plt.imshow(zoomed_im, cmap='gray')"
   ]
  },
  {
   "cell_type": "code",
   "execution_count": null,
   "metadata": {},
   "outputs": [],
   "source": [
    "rigid_registered_dataset = it.rigid_registration(image)\n",
    "view = rigid_registered_dataset.plot()\n",
    "    "
   ]
  },
  {
   "cell_type": "code",
   "execution_count": null,
   "metadata": {},
   "outputs": [],
   "source": [
    "im_array = np.array(rigid_registered_dataset).sum(axis=0)\n",
    "im_array.shape"
   ]
  },
  {
   "cell_type": "code",
   "execution_count": null,
   "metadata": {},
   "outputs": [],
   "source": [
    "# im_array = np.array(rigid_registered_dataset).sum(axis=0)\n",
    "\n",
    "np.savez('WSSe_haadf_2.npz', im_array=zoomed_im, pixel_size=pixel_size)"
   ]
  },
  {
   "cell_type": "code",
   "execution_count": null,
   "metadata": {},
   "outputs": [],
   "source": [
    "drift = rigid_registered_dataset.metadata['drift']\n",
    "polynom_degree = 2 # 1 is linear fit, 2 is parabolic fit, ...\n",
    "\n",
    "x = np.linspace(0,drift.shape[0]-1,drift.shape[0])\n",
    "\n",
    "line_fit_x = np.polyfit(x, drift[:,0], polynom_degree)\n",
    "poly_x = np.poly1d(line_fit_x)\n",
    "line_fit_y = np.polyfit(x, drift[:,1], polynom_degree)\n",
    "poly_y = np.poly1d(line_fit_y)\n",
    "\n",
    "plt.figure()\n",
    "plt.axhline(color = 'gray')\n",
    "plt.plot(x, drift[:,0], label = 'drift x')\n",
    "plt.plot(x, drift[:,1], label = 'drift y')\n",
    "plt.plot(x, poly_x(x),  label = 'fit_drift_x')\n",
    "plt.plot(x, poly_y(x),  label = 'fit_drift_y')\n",
    "\n",
    "plt.legend();\n",
    "ax_pixels = plt.gca()\n",
    "ax_pixels.step(1, 1)\n",
    "\n",
    "scaleX = (rigid_registered_dataset.x[1]-rigid_registered_dataset.x[0])*1000.  #in pm\n",
    "\n",
    "ax_pm = ax_pixels.twinx()\n",
    "x_1, x_2 = ax_pixels.get_ylim()\n",
    "\n",
    "ax_pm.set_ylim(x_1*scaleX, x_2*scaleX)\n",
    "\n",
    "ax_pixels.set_ylabel('drift [pixels]')\n",
    "ax_pm.set_ylabel('drift [pm]')\n",
    "ax_pixels.set_xlabel('image number');\n",
    "plt.tight_layout()"
   ]
  },
  {
   "cell_type": "code",
   "execution_count": null,
   "metadata": {},
   "outputs": [],
   "source": [
    "# non_rigid_registered = it.demon_registration(rigid_registered_dataset)"
   ]
  },
  {
   "cell_type": "markdown",
   "metadata": {},
   "source": [
    "## get some more images of WSSe\n"
   ]
  },
  {
   "cell_type": "code",
   "execution_count": null,
   "metadata": {},
   "outputs": [],
   "source": [
    "# WSSe Exp data \n",
    "path = '/Users/austin/Desktop/Projects/WS2_twist/WS2_1deg/20230315/WS2_1deg/20230315 1045 STEM HAADF 9.20 Mx.emd'\n",
    "dset = ft.open_file(path)\n",
    "image = dset['Channel_000']\n",
    "\n",
    "# normalize the image\n",
    "image = image - image.min()\n",
    "image = image/image.max()\n",
    "im_array = np.array(image)\n",
    "\n",
    "\n",
    "view = image.plot()\n",
    "\n",
    "pixel_size = dset['Channel_000'].original_metadata['BinaryResult']['PixelSize']['width'] # m/pixel\n",
    "pixel_size = float(pixel_size) * 1e10 # Angstrom/pixel\n",
    "\n",
    "print('Pixel size: ', pixel_size, ' Angstroms/pixel')\n",
    "\n",
    "im_array = np.array(rigid_registered_dataset)\n",
    "\n",
    "np.savez('WSSe_haadf.npz', im_array=im_array, pixel_size=pixel_size)"
   ]
  },
  {
   "cell_type": "code",
   "execution_count": null,
   "metadata": {},
   "outputs": [],
   "source": []
  }
 ],
 "metadata": {
  "kernelspec": {
   "display_name": "pyTEMlib",
   "language": "python",
   "name": "python3"
  },
  "language_info": {
   "codemirror_mode": {
    "name": "ipython",
    "version": 3
   },
   "file_extension": ".py",
   "mimetype": "text/x-python",
   "name": "python",
   "nbconvert_exporter": "python",
   "pygments_lexer": "ipython3",
   "version": "3.11.0"
  }
 },
 "nbformat": 4,
 "nbformat_minor": 2
}
